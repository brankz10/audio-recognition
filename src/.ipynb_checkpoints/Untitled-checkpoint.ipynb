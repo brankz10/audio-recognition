{
 "cells": [
  {
   "cell_type": "code",
   "execution_count": 1,
   "metadata": {},
   "outputs": [],
   "source": [
    "import pandas as pd\n",
    "import subprocess\n",
    "import re\n",
    "from tqdm import tqdm\n",
    "from pathlib import Path\n",
    "from pydub import AudioSegment"
   ]
  },
  {
   "cell_type": "code",
   "execution_count": 2,
   "metadata": {},
   "outputs": [],
   "source": [
    "sentence_re = re.compile(\n",
    "    r\"(\\d{2}:\\d{2}:\\d{2}\\.\\d{3})\"\n",
    "    r\" --> (\\d{2}:\\d{2}:\\d{2}\\.\\d{3})\"\n",
    "    r\".*\\n.*\\n([^(<\\d)]*<\\d{2}:\\d{2}:\"\n",
    "    r\"\\d{2}\\.\\d{3}>.*</c>)\"\n",
    ")"
   ]
  },
  {
   "cell_type": "code",
   "execution_count": 3,
   "metadata": {},
   "outputs": [],
   "source": [
    "raw_path = Path(\"../data/raw_val\")\n",
    "data = {}\n",
    "data[\"start\"] = []\n",
    "data[\"end\"] = []\n",
    "data[\"sentence\"] = []\n",
    "data[\"filename\"] = []\n",
    "\n",
    "for filename in raw_path.glob(\"*\"):\n",
    "    if filename.suffix == \".vtt\":\n",
    "        txt = filename.read_text()\n",
    "        for match in sentence_re.finditer(txt):\n",
    "            data[\"start\"].append(match.group(1))\n",
    "            data[\"end\"].append(match.group(2))\n",
    "            data[\"sentence\"].append(re.sub(r\"\\s\\s+\",\" \", re.sub(r\"<[^>]+>\", \" \", match.group(3))))\n",
    "            data[\"filename\"].append(filename.as_posix().replace(\".pt.vtt\",\"\"))\n",
    "\n",
    "df = pd.DataFrame(data)"
   ]
  },
  {
   "cell_type": "code",
   "execution_count": 4,
   "metadata": {},
   "outputs": [
    {
     "data": {
      "text/html": [
       "<div>\n",
       "<style scoped>\n",
       "    .dataframe tbody tr th:only-of-type {\n",
       "        vertical-align: middle;\n",
       "    }\n",
       "\n",
       "    .dataframe tbody tr th {\n",
       "        vertical-align: top;\n",
       "    }\n",
       "\n",
       "    .dataframe thead th {\n",
       "        text-align: right;\n",
       "    }\n",
       "</style>\n",
       "<table border=\"1\" class=\"dataframe\">\n",
       "  <thead>\n",
       "    <tr style=\"text-align: right;\">\n",
       "      <th></th>\n",
       "      <th>start</th>\n",
       "      <th>end</th>\n",
       "      <th>sentence</th>\n",
       "      <th>filename</th>\n",
       "    </tr>\n",
       "  </thead>\n",
       "  <tbody>\n",
       "    <tr>\n",
       "      <th>0</th>\n",
       "      <td>00:00:02.580</td>\n",
       "      <td>00:00:20.450</td>\n",
       "      <td>e aí</td>\n",
       "      <td>../data/raw_val/NYVI ESTEPHAN - Flow Podcast #...</td>\n",
       "    </tr>\n",
       "    <tr>\n",
       "      <th>1</th>\n",
       "      <td>00:00:20.460</td>\n",
       "      <td>00:00:24.079</td>\n",
       "      <td>olá sejam bem-vindos a mais um filho não</td>\n",
       "      <td>../data/raw_val/NYVI ESTEPHAN - Flow Podcast #...</td>\n",
       "    </tr>\n",
       "    <tr>\n",
       "      <th>2</th>\n",
       "      <td>00:00:24.089</td>\n",
       "      <td>00:00:26.929</td>\n",
       "      <td>podcast eu sou monark do meu lado o</td>\n",
       "      <td>../data/raw_val/NYVI ESTEPHAN - Flow Podcast #...</td>\n",
       "    </tr>\n",
       "    <tr>\n",
       "      <th>3</th>\n",
       "      <td>00:00:26.939</td>\n",
       "      <td>00:00:29.299</td>\n",
       "      <td>ilustre ficar salve salve família sou o</td>\n",
       "      <td>../data/raw_val/NYVI ESTEPHAN - Flow Podcast #...</td>\n",
       "    </tr>\n",
       "    <tr>\n",
       "      <th>4</th>\n",
       "      <td>00:00:29.309</td>\n",
       "      <td>00:00:35.959</td>\n",
       "      <td>igor não é mas vai ficar não sou iva e</td>\n",
       "      <td>../data/raw_val/NYVI ESTEPHAN - Flow Podcast #...</td>\n",
       "    </tr>\n",
       "  </tbody>\n",
       "</table>\n",
       "</div>"
      ],
      "text/plain": [
       "          start           end                                   sentence  \\\n",
       "0  00:00:02.580  00:00:20.450                                      e aí    \n",
       "1  00:00:20.460  00:00:24.079  olá sejam bem-vindos a mais um filho não    \n",
       "2  00:00:24.089  00:00:26.929       podcast eu sou monark do meu lado o    \n",
       "3  00:00:26.939  00:00:29.299   ilustre ficar salve salve família sou o    \n",
       "4  00:00:29.309  00:00:35.959    igor não é mas vai ficar não sou iva e    \n",
       "\n",
       "                                            filename  \n",
       "0  ../data/raw_val/NYVI ESTEPHAN - Flow Podcast #...  \n",
       "1  ../data/raw_val/NYVI ESTEPHAN - Flow Podcast #...  \n",
       "2  ../data/raw_val/NYVI ESTEPHAN - Flow Podcast #...  \n",
       "3  ../data/raw_val/NYVI ESTEPHAN - Flow Podcast #...  \n",
       "4  ../data/raw_val/NYVI ESTEPHAN - Flow Podcast #...  "
      ]
     },
     "execution_count": 4,
     "metadata": {},
     "output_type": "execute_result"
    }
   ],
   "source": [
    "df.head()"
   ]
  },
  {
   "cell_type": "code",
   "execution_count": 5,
   "metadata": {},
   "outputs": [],
   "source": [
    "df[\"start\"] = pd.to_timedelta(df[\"start\"])\n",
    "df[\"end\"] = pd.to_timedelta(df[\"end\"])\n",
    "df[\"end\"] = df[\"end\"] + pd.to_timedelta(\"00:00:00.010000\")"
   ]
  },
  {
   "cell_type": "code",
   "execution_count": 6,
   "metadata": {},
   "outputs": [],
   "source": [
    "concats = 2\n",
    "for i in range(concats):\n",
    "    df = df.merge(df, left_on=[\"filename\",\"end\"], right_on=[\"filename\",\"start\"], how=\"left\")\n",
    "    df = df[df.index % 2 == 0]\n",
    "    df[\"start\"] = df[\"start_x\"]\n",
    "    df[\"end\"] = df[\"end_y\"]\n",
    "    df[\"sentence\"] = df[\"sentence_x\"] + df[\"sentence_y\"]\n",
    "    df = df[[\"start\", \"end\", \"sentence\", \"filename\"]]\n",
    "    df.dropna(inplace=True)"
   ]
  },
  {
   "cell_type": "code",
   "execution_count": 7,
   "metadata": {},
   "outputs": [],
   "source": [
    "df[\"delta\"] = df[\"end\"] - df[\"start\"]\n",
    "df = df[pd.to_timedelta(df[\"start\"]).dt.seconds>30]\n",
    "df = df[pd.to_timedelta(df[\"delta\"]).dt.seconds<=20]\n",
    "#df = df[df[\"delta\"].dt.seconds >= 2]"
   ]
  },
  {
   "cell_type": "code",
   "execution_count": 8,
   "metadata": {},
   "outputs": [
    {
     "data": {
      "text/plain": [
       "<matplotlib.axes._subplots.AxesSubplot at 0x7f3e53e19c10>"
      ]
     },
     "execution_count": 8,
     "metadata": {},
     "output_type": "execute_result"
    },
    {
     "data": {
      "image/png": "[encoded data removed]",
      "text/plain": [
       "<Figure size 432x288 with 1 Axes>"
      ]
     },
     "metadata": {
      "needs_background": "light"
     },
     "output_type": "display_data"
    }
   ],
   "source": [
    "import matplotlib.pyplot as plt\n",
    "%matplotlib inline\n",
    "df[\"delta\"].dt.seconds.plot.hist()"
   ]
  },
  {
   "cell_type": "code",
   "execution_count": 9,
   "metadata": {},
   "outputs": [
    {
     "data": {
      "text/plain": [
       "array([Timedelta('0 days 01:46:02.110000'), Timedelta('0 days 01:46:12'),\n",
       "       'capa de disco lado ela procura a capa de disco procura a banda que você vai curtir para caramba dela colocar essa parte aqui é o vosso musical aí sim ',\n",
       "       '../data/raw_val/AVIÕES E MÚSICAS - Flow Podcast #135-X9coNN1Hazk',\n",
       "       Timedelta('0 days 00:00:09.890000')], dtype=object)"
      ]
     },
     "execution_count": 9,
     "metadata": {},
     "output_type": "execute_result"
    }
   ],
   "source": [
    "df.values[-1]"
   ]
  },
  {
   "cell_type": "code",
   "execution_count": 10,
   "metadata": {},
   "outputs": [
    {
     "data": {
      "text/html": [
       "<div>\n",
       "<style scoped>\n",
       "    .dataframe tbody tr th:only-of-type {\n",
       "        vertical-align: middle;\n",
       "    }\n",
       "\n",
       "    .dataframe tbody tr th {\n",
       "        vertical-align: top;\n",
       "    }\n",
       "\n",
       "    .dataframe thead th {\n",
       "        text-align: right;\n",
       "    }\n",
       "</style>\n",
       "<table border=\"1\" class=\"dataframe\">\n",
       "  <thead>\n",
       "    <tr style=\"text-align: right;\">\n",
       "      <th></th>\n",
       "      <th>start</th>\n",
       "      <th>end</th>\n",
       "      <th>sentence</th>\n",
       "      <th>filename</th>\n",
       "      <th>delta</th>\n",
       "      <th>end_mili</th>\n",
       "      <th>start_mili</th>\n",
       "    </tr>\n",
       "  </thead>\n",
       "  <tbody>\n",
       "    <tr>\n",
       "      <th>4</th>\n",
       "      <td>00:00:43.110000</td>\n",
       "      <td>00:00:51.210000</td>\n",
       "      <td>se você tem problema de conexão no seu jogos e...</td>\n",
       "      <td>../data/raw_val/NYVI ESTEPHAN - Flow Podcast #...</td>\n",
       "      <td>00:00:08.100000</td>\n",
       "      <td>50910.0</td>\n",
       "      <td>42710.0</td>\n",
       "    </tr>\n",
       "    <tr>\n",
       "      <th>6</th>\n",
       "      <td>00:00:51.210000</td>\n",
       "      <td>00:00:59.940000</td>\n",
       "      <td>conseguindo porque ele é na china aí você prec...</td>\n",
       "      <td>../data/raw_val/NYVI ESTEPHAN - Flow Podcast #...</td>\n",
       "      <td>00:00:08.730000</td>\n",
       "      <td>59640.0</td>\n",
       "      <td>50810.0</td>\n",
       "    </tr>\n",
       "    <tr>\n",
       "      <th>8</th>\n",
       "      <td>00:00:59.940000</td>\n",
       "      <td>00:01:09.240000</td>\n",
       "      <td>programa você tem três dias grátis para testar...</td>\n",
       "      <td>../data/raw_val/NYVI ESTEPHAN - Flow Podcast #...</td>\n",
       "      <td>00:00:09.300000</td>\n",
       "      <td>68940.0</td>\n",
       "      <td>59540.0</td>\n",
       "    </tr>\n",
       "    <tr>\n",
       "      <th>10</th>\n",
       "      <td>00:01:09.240000</td>\n",
       "      <td>00:01:17.610000</td>\n",
       "      <td>falando dos três dias grátis nessa sem cartão ...</td>\n",
       "      <td>../data/raw_val/NYVI ESTEPHAN - Flow Podcast #...</td>\n",
       "      <td>00:00:08.370000</td>\n",
       "      <td>77310.0</td>\n",
       "      <td>68840.0</td>\n",
       "    </tr>\n",
       "    <tr>\n",
       "      <th>12</th>\n",
       "      <td>00:01:17.610000</td>\n",
       "      <td>00:01:30.250000</td>\n",
       "      <td>impossível só se você for you é mas também a g...</td>\n",
       "      <td>../data/raw_val/NYVI ESTEPHAN - Flow Podcast #...</td>\n",
       "      <td>00:00:12.640000</td>\n",
       "      <td>89950.0</td>\n",
       "      <td>77210.0</td>\n",
       "    </tr>\n",
       "  </tbody>\n",
       "</table>\n",
       "</div>"
      ],
      "text/plain": [
       "             start             end  \\\n",
       "4  00:00:43.110000 00:00:51.210000   \n",
       "6  00:00:51.210000 00:00:59.940000   \n",
       "8  00:00:59.940000 00:01:09.240000   \n",
       "10 00:01:09.240000 00:01:17.610000   \n",
       "12 00:01:17.610000 00:01:30.250000   \n",
       "\n",
       "                                             sentence  \\\n",
       "4   se você tem problema de conexão no seu jogos e...   \n",
       "6   conseguindo porque ele é na china aí você prec...   \n",
       "8   programa você tem três dias grátis para testar...   \n",
       "10  falando dos três dias grátis nessa sem cartão ...   \n",
       "12  impossível só se você for you é mas também a g...   \n",
       "\n",
       "                                             filename           delta  \\\n",
       "4   ../data/raw_val/NYVI ESTEPHAN - Flow Podcast #... 00:00:08.100000   \n",
       "6   ../data/raw_val/NYVI ESTEPHAN - Flow Podcast #... 00:00:08.730000   \n",
       "8   ../data/raw_val/NYVI ESTEPHAN - Flow Podcast #... 00:00:09.300000   \n",
       "10  ../data/raw_val/NYVI ESTEPHAN - Flow Podcast #... 00:00:08.370000   \n",
       "12  ../data/raw_val/NYVI ESTEPHAN - Flow Podcast #... 00:00:12.640000   \n",
       "\n",
       "    end_mili  start_mili  \n",
       "4    50910.0     42710.0  \n",
       "6    59640.0     50810.0  \n",
       "8    68940.0     59540.0  \n",
       "10   77310.0     68840.0  \n",
       "12   89950.0     77210.0  "
      ]
     },
     "execution_count": 10,
     "metadata": {},
     "output_type": "execute_result"
    }
   ],
   "source": [
    "df[\"end_mili\"] = pd.to_timedelta(df[\"end\"]).dt.total_seconds()*1000 - 300\n",
    "df[\"start_mili\"] = pd.to_timedelta(df[\"start\"]).dt.total_seconds()*1000 - 400\n",
    "df.head()"
   ]
  },
  {
   "cell_type": "code",
   "execution_count": 11,
   "metadata": {},
   "outputs": [
    {
     "name": "stdout",
     "output_type": "stream",
     "text": [
      "126\n",
      "127\n",
      "128\n",
      "129\n",
      "130\n",
      "131\n",
      "132\n",
      "133\n",
      "134\n",
      "135\n",
      "136\n",
      "137\n",
      "138\n",
      "139\n",
      "140\n",
      "141\n",
      "142\n",
      "143\n",
      "144\n",
      "145\n"
     ]
    },
    {
     "ename": "KeyboardInterrupt",
     "evalue": "",
     "output_type": "error",
     "traceback": [
      "\u001b[0;31m---------------------------------------------------------------------------\u001b[0m",
      "\u001b[0;31mKeyboardInterrupt\u001b[0m                         Traceback (most recent call last)",
      "\u001b[0;32m<ipython-input-11-5b2dbda77e57>\u001b[0m in \u001b[0;36m<module>\u001b[0;34m\u001b[0m\n\u001b[1;32m     13\u001b[0m                 \u001b[0maudiocut\u001b[0m \u001b[0;34m=\u001b[0m \u001b[0maudio\u001b[0m\u001b[0;34m[\u001b[0m\u001b[0mrow\u001b[0m\u001b[0;34m[\u001b[0m\u001b[0;34m\"start_mili\"\u001b[0m\u001b[0;34m]\u001b[0m\u001b[0;34m:\u001b[0m\u001b[0mrow\u001b[0m\u001b[0;34m[\u001b[0m\u001b[0;34m\"end_mili\"\u001b[0m\u001b[0;34m]\u001b[0m\u001b[0;34m]\u001b[0m\u001b[0;34m\u001b[0m\u001b[0;34m\u001b[0m\u001b[0m\n\u001b[1;32m     14\u001b[0m                 \u001b[0mfilename\u001b[0m \u001b[0;34m=\u001b[0m \u001b[0moutput_path\u001b[0m\u001b[0;34m/\u001b[0m \u001b[0;34mf\"{f_index}-{index}.flac\"\u001b[0m\u001b[0;34m\u001b[0m\u001b[0;34m\u001b[0m\u001b[0m\n\u001b[0;32m---> 15\u001b[0;31m                 \u001b[0maudiocut\u001b[0m\u001b[0;34m.\u001b[0m\u001b[0mexport\u001b[0m\u001b[0;34m(\u001b[0m\u001b[0mfilename\u001b[0m\u001b[0;34m,\u001b[0m \u001b[0mformat\u001b[0m\u001b[0;34m=\u001b[0m\u001b[0;34m\"flac\"\u001b[0m\u001b[0;34m)\u001b[0m\u001b[0;34m\u001b[0m\u001b[0;34m\u001b[0m\u001b[0m\n\u001b[0m\u001b[1;32m     16\u001b[0m                 \u001b[0mtext\u001b[0m \u001b[0;34m+=\u001b[0m \u001b[0;34mf\"{f_index}-{index} {row['sentence']}\\n\"\u001b[0m\u001b[0;34m\u001b[0m\u001b[0;34m\u001b[0m\u001b[0m\n\u001b[1;32m     17\u001b[0m             \u001b[0;34m(\u001b[0m\u001b[0moutput_path\u001b[0m \u001b[0;34m/\u001b[0m \u001b[0;34mf\"{f_index}.trans.txt\"\u001b[0m\u001b[0;34m)\u001b[0m\u001b[0;34m.\u001b[0m\u001b[0mwrite_text\u001b[0m\u001b[0;34m(\u001b[0m\u001b[0mtext\u001b[0m\u001b[0;34m)\u001b[0m\u001b[0;34m\u001b[0m\u001b[0;34m\u001b[0m\u001b[0m\n",
      "\u001b[0;32m~/Documents/Projetos/audio-transcription/trans/lib/python3.7/site-packages/pydub/audio_segment.py\u001b[0m in \u001b[0;36mexport\u001b[0;34m(self, out_f, format, codec, bitrate, parameters, tags, id3v2_version, cover)\u001b[0m\n\u001b[1;32m    884\u001b[0m \u001b[0;34m\u001b[0m\u001b[0m\n\u001b[1;32m    885\u001b[0m         \u001b[0mos\u001b[0m\u001b[0;34m.\u001b[0m\u001b[0munlink\u001b[0m\u001b[0;34m(\u001b[0m\u001b[0mdata\u001b[0m\u001b[0;34m.\u001b[0m\u001b[0mname\u001b[0m\u001b[0;34m)\u001b[0m\u001b[0;34m\u001b[0m\u001b[0;34m\u001b[0m\u001b[0m\n\u001b[0;32m--> 886\u001b[0;31m         \u001b[0mos\u001b[0m\u001b[0;34m.\u001b[0m\u001b[0munlink\u001b[0m\u001b[0;34m(\u001b[0m\u001b[0moutput\u001b[0m\u001b[0;34m.\u001b[0m\u001b[0mname\u001b[0m\u001b[0;34m)\u001b[0m\u001b[0;34m\u001b[0m\u001b[0;34m\u001b[0m\u001b[0m\n\u001b[0m\u001b[1;32m    887\u001b[0m \u001b[0;34m\u001b[0m\u001b[0m\n\u001b[1;32m    888\u001b[0m         \u001b[0mout_f\u001b[0m\u001b[0;34m.\u001b[0m\u001b[0mseek\u001b[0m\u001b[0;34m(\u001b[0m\u001b[0;36m0\u001b[0m\u001b[0;34m)\u001b[0m\u001b[0;34m\u001b[0m\u001b[0;34m\u001b[0m\u001b[0m\n",
      "\u001b[0;31mKeyboardInterrupt\u001b[0m: "
     ]
    }
   ],
   "source": [
    "processed_path = Path(\"../data/processed_val/\")\n",
    "#145\n",
    "for f_index, fname in enumerate(df[\"filename\"].unique()):\n",
    "    if f_index>=126:\n",
    "        print(f_index)\n",
    "        if Path(f\"{fname}.wav\").exists():\n",
    "                                        \n",
    "            audio = AudioSegment.from_wav(f\"{fname}.wav\")\n",
    "            output_path = processed_path / str(f_index)\n",
    "            output_path.mkdir(parents=True, exist_ok=True)\n",
    "            text = \"\"\n",
    "            for index, row in df[df[\"filename\"]==fname].iterrows():\n",
    "                audiocut = audio[row[\"start_mili\"]:row[\"end_mili\"]]\n",
    "                filename = output_path/ f\"{f_index}-{index}.flac\"\n",
    "                audiocut.export(filename, format=\"flac\")\n",
    "                text += f\"{f_index}-{index} {row['sentence']}\\n\"\n",
    "            (output_path / f\"{f_index}.trans.txt\").write_text(text)"
   ]
  },
  {
   "cell_type": "code",
   "execution_count": 48,
   "metadata": {},
   "outputs": [],
   "source": [
    "def play(audio_file_path):\n",
    "    subprocess.call([\"ffplay\", \"-nodisp\", \"-autoexit\", audio_file_path])"
   ]
  },
  {
   "cell_type": "code",
   "execution_count": 49,
   "metadata": {},
   "outputs": [
    {
     "name": "stdout",
     "output_type": "stream",
     "text": [
      "o protocolo prevê ainda o confinamento das equipes até o fim do campeonato ou seja ao final de cada jogo os atletas voltam para a concentração de onde só \n"
     ]
    }
   ],
   "source": [
    "item = 150\n",
    "print(df.iloc[item, 1])\n",
    "play(Path(df.iloc[item, 0]).absolute().as_posix())"
   ]
  },
  {
   "cell_type": "code",
   "execution_count": 21,
   "metadata": {},
   "outputs": [
    {
     "data": {
      "text/html": [
       "<div>\n",
       "<style scoped>\n",
       "    .dataframe tbody tr th:only-of-type {\n",
       "        vertical-align: middle;\n",
       "    }\n",
       "\n",
       "    .dataframe tbody tr th {\n",
       "        vertical-align: top;\n",
       "    }\n",
       "\n",
       "    .dataframe thead th {\n",
       "        text-align: right;\n",
       "    }\n",
       "</style>\n",
       "<table border=\"1\" class=\"dataframe\">\n",
       "  <thead>\n",
       "    <tr style=\"text-align: right;\">\n",
       "      <th></th>\n",
       "      <th>filename</th>\n",
       "      <th>sentence</th>\n",
       "    </tr>\n",
       "  </thead>\n",
       "  <tbody>\n",
       "    <tr>\n",
       "      <th>0</th>\n",
       "      <td>../data/processed/0_6.wav</td>\n",
       "      <td>determina que se relacione de forma independen...</td>\n",
       "    </tr>\n",
       "    <tr>\n",
       "      <th>1</th>\n",
       "      <td>../data/processed/0_8.wav</td>\n",
       "      <td>o que se deve os poderes serem percebidos dess...</td>\n",
       "    </tr>\n",
       "    <tr>\n",
       "      <th>2</th>\n",
       "      <td>../data/processed/0_10.wav</td>\n",
       "      <td>e o passado cuida o judiciário essa é a repart...</td>\n",
       "    </tr>\n",
       "    <tr>\n",
       "      <th>3</th>\n",
       "      <td>../data/processed/0_12.wav</td>\n",
       "      <td>cuidar do presente sim terá competente cuidado...</td>\n",
       "    </tr>\n",
       "    <tr>\n",
       "      <th>4</th>\n",
       "      <td>../data/processed/0_14.wav</td>\n",
       "      <td>de poderes é constante o senhor descreveu o qu...</td>\n",
       "    </tr>\n",
       "    <tr>\n",
       "      <th>...</th>\n",
       "      <td>...</td>\n",
       "      <td>...</td>\n",
       "    </tr>\n",
       "    <tr>\n",
       "      <th>4257</th>\n",
       "      <td>../data/processed/34_8910.wav</td>\n",
       "      <td>e não poder executivo claro é claro que a gest...</td>\n",
       "    </tr>\n",
       "    <tr>\n",
       "      <th>4258</th>\n",
       "      <td>../data/processed/34_8912.wav</td>\n",
       "      <td>atribuições distintas né nós legislam us eles ...</td>\n",
       "    </tr>\n",
       "    <tr>\n",
       "      <th>4259</th>\n",
       "      <td>../data/processed/34_8914.wav</td>\n",
       "      <td>assinar tomar as decisões da abertura de crédi...</td>\n",
       "    </tr>\n",
       "    <tr>\n",
       "      <th>4260</th>\n",
       "      <td>../data/processed/34_8916.wav</td>\n",
       "      <td>qual é o volume de recursos que o governo pret...</td>\n",
       "    </tr>\n",
       "    <tr>\n",
       "      <th>4261</th>\n",
       "      <td>../data/processed/34_8918.wav</td>\n",
       "      <td>organizar as despesas ouvindo os outros podere...</td>\n",
       "    </tr>\n",
       "  </tbody>\n",
       "</table>\n",
       "<p>4262 rows × 2 columns</p>\n",
       "</div>"
      ],
      "text/plain": [
       "                           filename  \\\n",
       "0         ../data/processed/0_6.wav   \n",
       "1         ../data/processed/0_8.wav   \n",
       "2        ../data/processed/0_10.wav   \n",
       "3        ../data/processed/0_12.wav   \n",
       "4        ../data/processed/0_14.wav   \n",
       "...                             ...   \n",
       "4257  ../data/processed/34_8910.wav   \n",
       "4258  ../data/processed/34_8912.wav   \n",
       "4259  ../data/processed/34_8914.wav   \n",
       "4260  ../data/processed/34_8916.wav   \n",
       "4261  ../data/processed/34_8918.wav   \n",
       "\n",
       "                                               sentence  \n",
       "0     determina que se relacione de forma independen...  \n",
       "1     o que se deve os poderes serem percebidos dess...  \n",
       "2     e o passado cuida o judiciário essa é a repart...  \n",
       "3     cuidar do presente sim terá competente cuidado...  \n",
       "4     de poderes é constante o senhor descreveu o qu...  \n",
       "...                                                 ...  \n",
       "4257  e não poder executivo claro é claro que a gest...  \n",
       "4258  atribuições distintas né nós legislam us eles ...  \n",
       "4259  assinar tomar as decisões da abertura de crédi...  \n",
       "4260  qual é o volume de recursos que o governo pret...  \n",
       "4261  organizar as despesas ouvindo os outros podere...  \n",
       "\n",
       "[4262 rows x 2 columns]"
      ]
     },
     "execution_count": 21,
     "metadata": {},
     "output_type": "execute_result"
    }
   ],
   "source": [
    "df"
   ]
  },
  {
   "cell_type": "code",
   "execution_count": 14,
   "metadata": {},
   "outputs": [],
   "source": [
    "_unidade_to_text = {\n",
    "    \"0\": \"zero\",\n",
    "    \"1\": \"um\",\n",
    "    \"2\": \"dois\",\n",
    "    \"3\": \"três\",\n",
    "    \"4\": \"quatro\",\n",
    "    \"5\": \"cinco\",\n",
    "    \"6\": \"seis\",\n",
    "    \"7\": \"sete\",\n",
    "    \"8\": \"oito\",\n",
    "    \"9\": \"nove\",\n",
    "    \"10\": \"dez\",\n",
    "    \"11\": \"onze\",\n",
    "    \"12\": \"doze\",\n",
    "    \"13\": \"treze\",\n",
    "    \"14\": \"catorze\",\n",
    "    \"15\": \"quinze\",\n",
    "    \"16\": \"dezesseis\",\n",
    "    \"17\": \"dezessete\",\n",
    "    \"18\": \"dezoito\",\n",
    "    \"19\": \"dezenove\",\n",
    "}\n",
    "\n",
    "_dezena_to_text = {\n",
    "    \"2\": \"vinte\",\n",
    "    \"3\": \"trinta\",\n",
    "    \"4\": \"quarenta\",\n",
    "    \"5\": \"cinquenta\",\n",
    "    \"6\": \"sessenta\",\n",
    "    \"7\": \"setenta\",\n",
    "    \"8\": \"oitenta\",\n",
    "    \"9\": \"noventa\",\n",
    "}\n",
    "\n",
    "_centena_to_text = {\n",
    "    \"1\": \"cento\",\n",
    "    \"2\": \"duzentos\",\n",
    "    \"3\": \"trezentos\",\n",
    "    \"4\": \"quatrocentos\",\n",
    "    \"5\": \"quinhentos\",\n",
    "    \"6\": \"seiscentos\",\n",
    "    \"7\": \"setecentos\",\n",
    "    \"8\": \"oitocentos\",\n",
    "    \"9\": \"novecentos\",\n",
    "}\n",
    "\n",
    "def _expand_dezena(m):\n",
    "    if int(m) < 20:\n",
    "        return _unidade_to_text.get(m)\n",
    "    else:\n",
    "        if int(m) % 10 == 0:\n",
    "            return _dezena_to_text.get(str(int(m) // 10))\n",
    "        else:\n",
    "            return _dezena_to_text.get(str(int(m) // 10)) + \" e \" + _unidade_to_text.get(str(int(m) % 10))\n",
    "\n",
    "def _expand_centena(m):\n",
    "    if int(m) // 100 == 0:\n",
    "        return _expand_dezena(str(int(m) % 100)) \n",
    "    else:\n",
    "        if int(m) % 100 == 0:\n",
    "            if int(m) == 100:\n",
    "                return \"cem\"\n",
    "            else:\n",
    "                return _centena_to_text.get(str(int(m) // 100))\n",
    "        else:\n",
    "            return _centena_to_text.get(str(int(m) // 100)) + \" e \" + _expand_dezena(str(int(m) % 100))\n",
    "\n",
    "\n",
    "def _expand_milhar(m):\n",
    "    if int(m) >= 2000:\n",
    "        if int(m) % 1000 != 0:\n",
    "            if (int(m) % 1000 < 100) or ((int(m) % 1000) % 100 ==0):\n",
    "                return _expand_centena(str(int(m) // 1000)) + \" mil e \" + _expand_centena(str(int(m) % 1000))\n",
    "            else:\n",
    "                return _expand_centena(str(int(m) // 1000)) + \" mil \" + _expand_centena(str(int(m) % 1000))\n",
    "        else:\n",
    "            return _expand_centena(str(int(m) // 1000)) + \" mil\"\n",
    "    else:\n",
    "        if int(m)//1000 == 0:\n",
    "            return _centena_to_text.get(str(int(m) % 1000))\n",
    "        elif int(m)//1000 == 1:\n",
    "            if int(m) == 1000:\n",
    "                return \"mil\"\n",
    "            else:\n",
    "                return \"mil \" + _expand_centena(str(int(m) % 1000))\n",
    "            \n",
    "\n",
    "def _expand_million(m):\n",
    "    if int(m) >= 2000000:\n",
    "        if int(m) % 1000000 != 0:\n",
    "            return _expand_centena(str(int(m) // 1000000)) + \" milhões \" + _expand_milhar(str(int(m) % 1000000))\n",
    "        else:\n",
    "            return _expand_milhar(str(int(m) // 1000)) + \" milhões\"\n",
    "    else:\n",
    "        if int(m)//1000000 == 0:\n",
    "            return _expand_milhar.get(str(int(m) % 1000000))\n",
    "        elif int(m)//1000000 == 1:\n",
    "            if int(m) == 1000000:\n",
    "                return \"um milhão\"\n",
    "            else:\n",
    "                return \"um milhão \" + _expand_milhar(str(int(m) % 1000000))\n",
    "            \n",
    "def _expand_billion(m):\n",
    "    if int(m) >= 2000000000:\n",
    "        if int(m) % 1000000000 != 0:\n",
    "            return _expand_centena(str(int(m) // 1000000000)) + \" bilhões \" + _expand_million(str(int(m) % 1000000000))\n",
    "        else:\n",
    "            return _expand_million(str(int(m) // 1000)) + \" bilhões\"\n",
    "    else:\n",
    "        if int(m)//1000000000 == 0:\n",
    "            return _expand_million.get(str(int(m) % 1000000000))\n",
    "        elif int(m)//1000000000 == 1:\n",
    "            if int(m) == 1000000000:\n",
    "                return \"um bilhão\"\n",
    "            else:\n",
    "                return \"um bilhão \" + _expand_million(str(int(m) % 1000000000))\n",
    "            \n",
    "def _expand_number(m):\n",
    "    m = str(int(m))\n",
    "    if int(m) < 10:\n",
    "        return _unidade_to_text.get(m)\n",
    "    elif int(m) < 100:\n",
    "        return _expand_dezena(m)\n",
    "    elif int(m) < 1000:\n",
    "        return _expand_centena(m)\n",
    "    elif int(m) < 1000000:\n",
    "        return _expand_milhar(m)\n",
    "    elif int(m) < 1000000000:\n",
    "        return _expand_million(m)\n",
    "    elif int(m) < 1000000000000:\n",
    "        return _expand_billion(m)"
   ]
  },
  {
   "cell_type": "code",
   "execution_count": null,
   "metadata": {},
   "outputs": [],
   "source": []
  },
  {
   "cell_type": "code",
   "execution_count": 15,
   "metadata": {},
   "outputs": [
    {
     "data": {
      "text/plain": [
       "'um'"
      ]
     },
     "execution_count": 15,
     "metadata": {},
     "output_type": "execute_result"
    }
   ],
   "source": [
    "_expand_number(\"01\")"
   ]
  },
  {
   "cell_type": "code",
   "execution_count": null,
   "metadata": {},
   "outputs": [],
   "source": []
  }
 ],
 "metadata": {
  "kernelspec": {
   "display_name": "Python 3",
   "language": "python",
   "name": "python3"
  },
  "language_info": {
   "codemirror_mode": {
    "name": "ipython",
    "version": 3
   },
   "file_extension": ".py",
   "mimetype": "text/x-python",
   "name": "python",
   "nbconvert_exporter": "python",
   "pygments_lexer": "ipython3",
   "version": "3.7.5"
  }
 },
 "nbformat": 4,
 "nbformat_minor": 4
}
