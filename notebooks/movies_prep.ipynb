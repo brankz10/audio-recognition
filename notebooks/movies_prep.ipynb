{
 "cells": [
  {
   "cell_type": "code",
   "execution_count": 1,
   "metadata": {},
   "outputs": [],
   "source": [
    "import sys\n",
    "sys.path.append(\"../\")                  "
   ]
  },
  {
   "cell_type": "code",
   "execution_count": 2,
   "metadata": {},
   "outputs": [],
   "source": [
    "from pathlib import Path\n",
    "import ffmpeg\n",
    "# import srt\n",
    "import re\n",
    "import pandas as pd\n",
    "from pydub import AudioSegment"
   ]
  },
  {
   "cell_type": "code",
   "execution_count": 3,
   "metadata": {},
   "outputs": [],
   "source": [
    "videos_path = Path(\"../data/videos/\")\n",
    "audios_path = Path(\"../data/raw\")"
   ]
  },
  {
   "cell_type": "code",
   "execution_count": 4,
   "metadata": {},
   "outputs": [],
   "source": [
    "def convert_to_wav(mkv_file, outputname, outpath, output_format, parts=1):\n",
    "    with_wav = outpath / (outputname + output_format)\n",
    "    ffmpeg.input(mkv_file.as_posix()).output(with_wav.as_posix()).run()\n",
    "    audio = AudioSegment.from_wav(with_wav)\n",
    "    audio = audio.set_channels(1)\n",
    "    audio = audio.set_frame_rate(16000)\n",
    "    audio_len = len(audio)//parts\n",
    "    for i in range(parts):\n",
    "        print(i)\n",
    "        audio[i*audio_len:(i+1)*audio_len].export(f\"{outputname}_{i}.wav\", format=\"wav\", bitrate=\"256k\")"
   ]
  },
  {
   "cell_type": "code",
   "execution_count": 5,
   "metadata": {},
   "outputs": [
    {
     "name": "stdout",
     "output_type": "stream",
     "text": [
      "0\n"
     ]
    }
   ],
   "source": [
    "convert_to_wav(Path(\"lucas_teste.ogg\"), \"lucas_teste\", Path(), \".wav\")"
   ]
  },
  {
   "cell_type": "code",
   "execution_count": 30,
   "metadata": {},
   "outputs": [],
   "source": [
    "for video_path in videos_path.glob(\"*\"):\n",
    "    if video_path.is_dir():\n",
    "        outpath = audios_path / video_path.stem\n",
    "        if not outpath.exists():\n",
    "            outpath.mkdir(parents=True, exist_ok=True)\n",
    "            external_srt = \".srt\" in [file.suffix for file in video_path.glob(\"*\")]\n",
    "            for index, file in enumerate(list(video_path.glob(\"*\"))):\n",
    "                if file.suffix in (\".mkv\", \".mp4\"):\n",
    "                    print(file)\n",
    "                    convert_to_wav(file, str(index), outpath, \".wav\")\n",
    "                    if external_srt:\n",
    "                        (outpath / f\"{index}.srt\").write_text((file.parent / f\"{file.stem}.srt\").read_text())\n",
    "                    else:\n",
    "                        convert_to_wav(file, str(index), outpath, \".srt\")"
   ]
  },
  {
   "cell_type": "code",
   "execution_count": 31,
   "metadata": {},
   "outputs": [],
   "source": [
    "data = {}\n",
    "data[\"start\"] = []\n",
    "data[\"end\"] = []\n",
    "data[\"sentence\"] = []\n",
    "data[\"filename\"] = []\n",
    "\n",
    "for audio_path in audios_path.glob(\"*\"):\n",
    "    if audio_path.is_dir():\n",
    "        for filename in audio_path.glob(\"*\"):\n",
    "            if filename.suffix == \".srt\":\n",
    "                txt = filename.read_text()\n",
    "                for subtitle in srt.parse(txt):\n",
    "                    sentence = re.sub(r\"<.*?>\", \"\", subtitle.content)\n",
    "                    sentence = re.sub(r\"\\[.*|.*\\]\", \"\", sentence)\n",
    "                    sentence = re.sub(r\"\\s\", \" \", sentence)\n",
    "                    if sentence:\n",
    "                        data[\"start\"].append(subtitle.start)\n",
    "                        data[\"end\"].append(subtitle.end)\n",
    "                        data[\"sentence\"].append(sentence)\n",
    "                        data[\"filename\"].append(filename.absolute())\n",
    "                    \n",
    "df = pd.DataFrame(data)"
   ]
  },
  {
   "cell_type": "code",
   "execution_count": 32,
   "metadata": {},
   "outputs": [],
   "source": [
    "data = {}\n",
    "data[\"start\"] = []\n",
    "data[\"end\"] = []\n",
    "data[\"sentence\"] = []\n",
    "data[\"filename\"] = []\n",
    "\n",
    "for fname in df[\"filename\"].unique():\n",
    "    clear = True\n",
    "    for index, row in df[df[\"filename\"]==fname].iterrows():\n",
    "        if clear:\n",
    "            start = row['start']\n",
    "            end = row['end']\n",
    "            sentence = row['sentence']\n",
    "            clear = False \n",
    "            continue\n",
    "        if row['start'] - end < pd.to_timedelta(\"00:00:01.000000\"):\n",
    "            end  = row['end']\n",
    "            sentence += \" \" + row['sentence']\n",
    "        else:\n",
    "            data[\"start\"].append(start)\n",
    "            data[\"end\"].append(end)\n",
    "            data[\"sentence\"].append(sentence)\n",
    "            data[\"filename\"].append(fname)\n",
    "            clear = True\n",
    "    if not clear:\n",
    "        data[\"start\"].append(start)\n",
    "        data[\"end\"].append(end)\n",
    "        data[\"sentence\"].append(sentence)\n",
    "        data[\"filename\"].append(fname)\n",
    "        clear = True\n",
    "        \n",
    "df = pd.DataFrame(data)"
   ]
  },
  {
   "cell_type": "code",
   "execution_count": 33,
   "metadata": {},
   "outputs": [],
   "source": [
    "df[\"delta\"] = df[\"end\"] - df[\"start\"]\n",
    "df = df[pd.to_timedelta(df[\"start\"]).dt.seconds>30]\n",
    "df = df[pd.to_timedelta(df[\"delta\"]).dt.seconds<=20]\n",
    "df = df[df[\"delta\"].dt.seconds>4]"
   ]
  },
  {
   "cell_type": "code",
   "execution_count": 34,
   "metadata": {},
   "outputs": [
    {
     "data": {
      "text/plain": [
       "<matplotlib.axes._subplots.AxesSubplot at 0x7fd61c2f7850>"
      ]
     },
     "execution_count": 34,
     "metadata": {},
     "output_type": "execute_result"
    },
    {
     "data": {
      "image/png": "[encoded data removed]",
      "text/plain": [
       "<Figure size 432x288 with 1 Axes>"
      ]
     },
     "metadata": {
      "needs_background": "light"
     },
     "output_type": "display_data"
    }
   ],
   "source": [
    "df[\"delta\"].dt.seconds.plot.hist()"
   ]
  },
  {
   "cell_type": "code",
   "execution_count": 35,
   "metadata": {},
   "outputs": [
    {
     "data": {
      "text/html": [
       "<div>\n",
       "<style scoped>\n",
       "    .dataframe tbody tr th:only-of-type {\n",
       "        vertical-align: middle;\n",
       "    }\n",
       "\n",
       "    .dataframe tbody tr th {\n",
       "        vertical-align: top;\n",
       "    }\n",
       "\n",
       "    .dataframe thead th {\n",
       "        text-align: right;\n",
       "    }\n",
       "</style>\n",
       "<table border=\"1\" class=\"dataframe\">\n",
       "  <thead>\n",
       "    <tr style=\"text-align: right;\">\n",
       "      <th></th>\n",
       "      <th>start</th>\n",
       "      <th>end</th>\n",
       "      <th>sentence</th>\n",
       "      <th>filename</th>\n",
       "      <th>delta</th>\n",
       "      <th>end_mili</th>\n",
       "      <th>start_mili</th>\n",
       "    </tr>\n",
       "  </thead>\n",
       "  <tbody>\n",
       "    <tr>\n",
       "      <th>4</th>\n",
       "      <td>00:04:10.005000</td>\n",
       "      <td>00:04:19.380000</td>\n",
       "      <td>Aí você me inventa uma entrevista, porra? Uma ...</td>\n",
       "      <td>/home/lucas/Documents/Projetos/audio-transcrip...</td>\n",
       "      <td>00:00:09.375000</td>\n",
       "      <td>259380.0</td>\n",
       "      <td>250005.0</td>\n",
       "    </tr>\n",
       "    <tr>\n",
       "      <th>7</th>\n",
       "      <td>00:04:51.546000</td>\n",
       "      <td>00:05:04.171000</td>\n",
       "      <td>Até meu sapato. O sapato? Tem certeza que não ...</td>\n",
       "      <td>/home/lucas/Documents/Projetos/audio-transcrip...</td>\n",
       "      <td>00:00:12.625000</td>\n",
       "      <td>304171.0</td>\n",
       "      <td>291546.0</td>\n",
       "    </tr>\n",
       "    <tr>\n",
       "      <th>10</th>\n",
       "      <td>00:05:27.296000</td>\n",
       "      <td>00:05:34.338000</td>\n",
       "      <td>Depois de um tempo conversando no site, ele te...</td>\n",
       "      <td>/home/lucas/Documents/Projetos/audio-transcrip...</td>\n",
       "      <td>00:00:07.042000</td>\n",
       "      <td>334338.0</td>\n",
       "      <td>327296.0</td>\n",
       "    </tr>\n",
       "    <tr>\n",
       "      <th>14</th>\n",
       "      <td>00:06:25.213000</td>\n",
       "      <td>00:06:32.880000</td>\n",
       "      <td>Não, olha só... Ele não me prometeu nada. Ele....</td>\n",
       "      <td>/home/lucas/Documents/Projetos/audio-transcrip...</td>\n",
       "      <td>00:00:07.667000</td>\n",
       "      <td>392880.0</td>\n",
       "      <td>385213.0</td>\n",
       "    </tr>\n",
       "    <tr>\n",
       "      <th>16</th>\n",
       "      <td>00:07:09.505000</td>\n",
       "      <td>00:07:21.213000</td>\n",
       "      <td>Ela não quer fazer natação. Não adianta forçar...</td>\n",
       "      <td>/home/lucas/Documents/Projetos/audio-transcrip...</td>\n",
       "      <td>00:00:11.708000</td>\n",
       "      <td>441213.0</td>\n",
       "      <td>429505.0</td>\n",
       "    </tr>\n",
       "  </tbody>\n",
       "</table>\n",
       "</div>"
      ],
      "text/plain": [
       "             start             end  \\\n",
       "4  00:04:10.005000 00:04:19.380000   \n",
       "7  00:04:51.546000 00:05:04.171000   \n",
       "10 00:05:27.296000 00:05:34.338000   \n",
       "14 00:06:25.213000 00:06:32.880000   \n",
       "16 00:07:09.505000 00:07:21.213000   \n",
       "\n",
       "                                             sentence  \\\n",
       "4   Aí você me inventa uma entrevista, porra? Uma ...   \n",
       "7   Até meu sapato. O sapato? Tem certeza que não ...   \n",
       "10  Depois de um tempo conversando no site, ele te...   \n",
       "14  Não, olha só... Ele não me prometeu nada. Ele....   \n",
       "16  Ela não quer fazer natação. Não adianta forçar...   \n",
       "\n",
       "                                             filename           delta  \\\n",
       "4   /home/lucas/Documents/Projetos/audio-transcrip... 00:00:09.375000   \n",
       "7   /home/lucas/Documents/Projetos/audio-transcrip... 00:00:12.625000   \n",
       "10  /home/lucas/Documents/Projetos/audio-transcrip... 00:00:07.042000   \n",
       "14  /home/lucas/Documents/Projetos/audio-transcrip... 00:00:07.667000   \n",
       "16  /home/lucas/Documents/Projetos/audio-transcrip... 00:00:11.708000   \n",
       "\n",
       "    end_mili  start_mili  \n",
       "4   259380.0    250005.0  \n",
       "7   304171.0    291546.0  \n",
       "10  334338.0    327296.0  \n",
       "14  392880.0    385213.0  \n",
       "16  441213.0    429505.0  "
      ]
     },
     "execution_count": 35,
     "metadata": {},
     "output_type": "execute_result"
    }
   ],
   "source": [
    "df[\"end_mili\"] = pd.to_timedelta(df[\"end\"]).dt.total_seconds()*1000 \n",
    "df[\"start_mili\"] = pd.to_timedelta(df[\"start\"]).dt.total_seconds()*1000\n",
    "df.head()"
   ]
  },
  {
   "cell_type": "code",
   "execution_count": 36,
   "metadata": {},
   "outputs": [],
   "source": [
    "df = df.reset_index(drop=True)"
   ]
  },
  {
   "cell_type": "code",
   "execution_count": 37,
   "metadata": {},
   "outputs": [
    {
     "data": {
      "text/plain": [
       "Timedelta('0 days 03:28:40.906000')"
      ]
     },
     "execution_count": 37,
     "metadata": {},
     "output_type": "execute_result"
    }
   ],
   "source": [
    "df['delta'].sum()"
   ]
  },
  {
   "cell_type": "code",
   "execution_count": 24,
   "metadata": {},
   "outputs": [
    {
     "ename": "UnboundLocalError",
     "evalue": "local variable 'fn' referenced before assignment",
     "output_type": "error",
     "traceback": [
      "\u001b[0;31m---------------------------------------------------------------------------\u001b[0m",
      "\u001b[0;31mUnboundLocalError\u001b[0m                         Traceback (most recent call last)",
      "\u001b[0;32m<ipython-input-24-ae254250ab31>\u001b[0m in \u001b[0;36m<module>\u001b[0;34m\u001b[0m\n\u001b[1;32m      4\u001b[0m     \u001b[0;32mif\u001b[0m \u001b[0mfname_wav\u001b[0m\u001b[0;34m.\u001b[0m\u001b[0mexists\u001b[0m\u001b[0;34m(\u001b[0m\u001b[0;34m)\u001b[0m\u001b[0;34m:\u001b[0m\u001b[0;34m\u001b[0m\u001b[0;34m\u001b[0m\u001b[0m\n\u001b[1;32m      5\u001b[0m         \u001b[0maudio\u001b[0m \u001b[0;34m=\u001b[0m \u001b[0mAudioSegment\u001b[0m\u001b[0;34m.\u001b[0m\u001b[0mfrom_wav\u001b[0m\u001b[0;34m(\u001b[0m\u001b[0mfname_wav\u001b[0m\u001b[0;34m.\u001b[0m\u001b[0mas_posix\u001b[0m\u001b[0;34m(\u001b[0m\u001b[0;34m)\u001b[0m\u001b[0;34m)\u001b[0m\u001b[0;34m\u001b[0m\u001b[0;34m\u001b[0m\u001b[0m\n\u001b[0;32m----> 6\u001b[0;31m         \u001b[0maudio\u001b[0m \u001b[0;34m=\u001b[0m \u001b[0maudio\u001b[0m\u001b[0;34m.\u001b[0m\u001b[0mset_channels\u001b[0m\u001b[0;34m(\u001b[0m\u001b[0;36m1\u001b[0m\u001b[0;34m)\u001b[0m\u001b[0;34m\u001b[0m\u001b[0;34m\u001b[0m\u001b[0m\n\u001b[0m\u001b[1;32m      7\u001b[0m         \u001b[0maudio\u001b[0m \u001b[0;34m=\u001b[0m \u001b[0maudio\u001b[0m\u001b[0;34m.\u001b[0m\u001b[0mset_frame_rate\u001b[0m\u001b[0;34m(\u001b[0m\u001b[0;36m16000\u001b[0m\u001b[0;34m)\u001b[0m\u001b[0;34m\u001b[0m\u001b[0;34m\u001b[0m\u001b[0m\n\u001b[1;32m      8\u001b[0m         \u001b[0moutput_path\u001b[0m \u001b[0;34m=\u001b[0m \u001b[0mprocessed_path\u001b[0m \u001b[0;34m/\u001b[0m \u001b[0mstr\u001b[0m\u001b[0;34m(\u001b[0m\u001b[0mfname\u001b[0m\u001b[0;34m.\u001b[0m\u001b[0mparent\u001b[0m\u001b[0;34m.\u001b[0m\u001b[0mstem\u001b[0m\u001b[0;34m)\u001b[0m \u001b[0;34m/\u001b[0m \u001b[0mstr\u001b[0m\u001b[0;34m(\u001b[0m\u001b[0mfname\u001b[0m\u001b[0;34m.\u001b[0m\u001b[0mstem\u001b[0m\u001b[0;34m)\u001b[0m\u001b[0;34m\u001b[0m\u001b[0;34m\u001b[0m\u001b[0m\n",
      "\u001b[0;32m~/Documents/Projetos/audio-transcription/trans/lib/python3.7/site-packages/pydub/audio_segment.py\u001b[0m in \u001b[0;36mset_channels\u001b[0;34m(self, channels)\u001b[0m\n\u001b[1;32m    950\u001b[0m             \u001b[0mfac\u001b[0m \u001b[0;34m=\u001b[0m \u001b[0;36m0.5\u001b[0m\u001b[0;34m\u001b[0m\u001b[0;34m\u001b[0m\u001b[0m\n\u001b[1;32m    951\u001b[0m \u001b[0;34m\u001b[0m\u001b[0m\n\u001b[0;32m--> 952\u001b[0;31m         \u001b[0mconverted\u001b[0m \u001b[0;34m=\u001b[0m \u001b[0mfn\u001b[0m\u001b[0;34m(\u001b[0m\u001b[0mself\u001b[0m\u001b[0;34m.\u001b[0m\u001b[0m_data\u001b[0m\u001b[0;34m,\u001b[0m \u001b[0mself\u001b[0m\u001b[0;34m.\u001b[0m\u001b[0msample_width\u001b[0m\u001b[0;34m,\u001b[0m \u001b[0mfac\u001b[0m\u001b[0;34m,\u001b[0m \u001b[0mfac\u001b[0m\u001b[0;34m)\u001b[0m\u001b[0;34m\u001b[0m\u001b[0;34m\u001b[0m\u001b[0m\n\u001b[0m\u001b[1;32m    953\u001b[0m \u001b[0;34m\u001b[0m\u001b[0m\n\u001b[1;32m    954\u001b[0m         return self._spawn(data=converted,\n",
      "\u001b[0;31mUnboundLocalError\u001b[0m: local variable 'fn' referenced before assignment"
     ]
    }
   ],
   "source": [
    "processed_path = Path(\"../data/processed/\")\n",
    "for fname in df[\"filename\"].unique():\n",
    "    fname_wav = fname.parent / f\"{fname.stem}.wav\"\n",
    "    if fname_wav.exists():\n",
    "        audio = AudioSegment.from_wav(fname_wav.as_posix())\n",
    "        audio = audio.set_channels(1)\n",
    "        audio = audio.set_frame_rate(16000)\n",
    "        output_path = processed_path / str(fname.parent.stem) / str(fname.stem)\n",
    "        output_path.mkdir(parents=True, exist_ok=True)\n",
    "        text = \"\"\n",
    "        for index, row in df[df[\"filename\"]==fname].iterrows():\n",
    "            audiocut = audio[row[\"start_mili\"]:row[\"end_mili\"]]\n",
    "            filename = output_path/ f\"{fname.stem}-{index}.flac\"\n",
    "            audiocut.export(filename, format=\"flac\", bitrate=\"256k\")\n",
    "            text += f\"{fname.stem}-{index} {row['sentence']}\\n\"\n",
    "        (output_path / f\"{fname.stem}.trans.txt\").write_text(text)"
   ]
  },
  {
   "cell_type": "code",
   "execution_count": null,
   "metadata": {},
   "outputs": [],
   "source": [
    "import subprocess\n",
    "def play(audio_file_path):\n",
    "    subprocess.call([\"ffplay\", \"-nodisp\", \"-autoexit\", audio_file_path])"
   ]
  },
  {
   "cell_type": "code",
   "execution_count": null,
   "metadata": {},
   "outputs": [],
   "source": [
    "df"
   ]
  },
  {
   "cell_type": "code",
   "execution_count": 24,
   "metadata": {},
   "outputs": [
    {
     "name": "stdout",
     "output_type": "stream",
     "text": [
      "Eu nunca fiz nada. Nunca matei, nunca estuprei. Quantas mulheres você estragou a vida? Hein, seu bostinha? Olha aqui, todos os meus encontros foram consentidos. -Eu nunca obriguei mulher... -Confessa, porra. 18\n"
     ]
    }
   ],
   "source": [
    "item = 288\n",
    "print(df[df.index == item]['sentence'].item(), df[df.index == item]['delta'].dt.seconds.item())\n",
    "fname = df[df.index == item]['filename'].item()\n",
    "audio_path = processed_path / str(fname.parent.stem) / str(fname.stem) / f\"{fname.stem}-{item}.flac\"\n",
    "play(audio_path.as_posix())"
   ]
  },
  {
   "cell_type": "code",
   "execution_count": 19,
   "metadata": {},
   "outputs": [],
   "source": [
    "import numpy as np\n",
    "import librosa\n",
    "from matplotlib import pyplot as plt "
   ]
  },
  {
   "cell_type": "code",
   "execution_count": 40,
   "metadata": {},
   "outputs": [
    {
     "data": {
      "image/png": "[encoded data removed]",
      "text/plain": [
       "<Figure size 432x288 with 1 Axes>"
      ]
     },
     "metadata": {
      "needs_background": "light"
     },
     "output_type": "display_data"
    }
   ],
   "source": [
    "x = np.linspace(0, 1000, 401)\n",
    "plt.plot(x, np.sin(x))\n",
    "plt.xlabel('Angle [rad]')\n",
    "plt.ylabel('sin(x)')\n",
    "plt.axis('tight')\n",
    "plt.show()"
   ]
  },
  {
   "cell_type": "code",
   "execution_count": 41,
   "metadata": {},
   "outputs": [
    {
     "name": "stderr",
     "output_type": "stream",
     "text": [
      "/home/lucas/Documents/Projetos/audio-transcription/venv/lib/python3.6/site-packages/librosa/core/spectrum.py:224: UserWarning: n_fft=2048 is too small for input signal of length=401\n",
      "  n_fft, y.shape[-1]\n"
     ]
    },
    {
     "data": {
      "image/png": "[encoded data removed]",
      "text/plain": [
       "<Figure size 432x288 with 1 Axes>"
      ]
     },
     "metadata": {
      "needs_background": "light"
     },
     "output_type": "display_data"
    }
   ],
   "source": [
    "y = librosa.effects.time_stretch(np.sin(x), rate=.5)\n",
    "plt.plot(y)\n",
    "plt.xlabel('Angle [rad]')\n",
    "plt.ylabel('sin(x)')\n",
    "plt.axis('tight')\n",
    "plt.show()"
   ]
  },
  {
   "cell_type": "code",
   "execution_count": null,
   "metadata": {},
   "outputs": [],
   "source": []
  }
 ],
 "metadata": {
  "kernelspec": {
   "display_name": "Python 3",
   "language": "python",
   "name": "python3"
  },
  "language_info": {
   "codemirror_mode": {
    "name": "ipython",
    "version": 3
   },
   "file_extension": ".py",
   "mimetype": "text/x-python",
   "name": "python",
   "nbconvert_exporter": "python",
   "pygments_lexer": "ipython3",
   "version": "3.6.9"
  }
 },
 "nbformat": 4,
 "nbformat_minor": 4
}
